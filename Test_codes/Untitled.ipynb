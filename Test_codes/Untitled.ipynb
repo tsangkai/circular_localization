{
 "cells": [
  {
   "cell_type": "code",
   "execution_count": 4,
   "metadata": {},
   "outputs": [],
   "source": [
    "import sys\n",
    "import math\n",
    "import numpy as np\n",
    "import pandas as pd\n",
    "import matplotlib.pyplot as plt\n",
    "from mpl_toolkits.mplot3d import Axes3D\n",
    "\n",
    "\n",
    "plot_color = {\n",
    "\t'gt': [0, 0, 0],\n",
    "\t'dr': [0.0000, 0.5490, 0.3765],\n",
    "\t'opt': [0.8627, 0.2980, 0.2745],\n",
    "\t'em': [0.8471, 0.6824, 0.2784],\n",
    "\t'boem': [0.2633, 0.4475, 0.7086],\n",
    "\t'lmk': [0.1, 0.1490, 0.3765],\n",
    "}"
   ]
  },
  {
   "cell_type": "code",
   "execution_count": 6,
   "metadata": {},
   "outputs": [
    {
     "data": {
      "text/plain": [
       "[<matplotlib.lines.Line2D at 0x7fd6b0048af0>]"
      ]
     },
     "execution_count": 6,
     "metadata": {},
     "output_type": "execute_result"
    },
    {
     "data": {
      "image/png": "[encoded data removed]",
      "text/plain": [
       "<Figure size 432x288 with 1 Axes>"
      ]
     },
     "metadata": {
      "needs_background": "light"
     },
     "output_type": "display_data"
    }
   ],
   "source": [
    "time_array = np.arange(0,10)\n",
    "line_width = 1.2\n",
    "opt_ave_error_array = np.arange(0,1,0.1)\n",
    "plt.plot(time_array, opt_ave_error_array, '-x', color = plot_color['opt'], linewidth=line_width, label='opt.')\n",
    "plt.fill_between(time_array, np.asarray(opt_ave_error_array)-np.asarray(opt_ave_error_sd),/\n",
    "                  np.asarray(opt_ave_error_array)+np.asarray(opt_ave_error_sd), color = plot_color['opt'], alpha = 0.5)"
   ]
  },
  {
   "cell_type": "code",
   "execution_count": null,
   "metadata": {},
   "outputs": [],
   "source": []
  }
 ],
 "metadata": {
  "kernelspec": {
   "display_name": "Python 3",
   "language": "python",
   "name": "python3"
  },
  "language_info": {
   "codemirror_mode": {
    "name": "ipython",
    "version": 3
   },
   "file_extension": ".py",
   "mimetype": "text/x-python",
   "name": "python",
   "nbconvert_exporter": "python",
   "pygments_lexer": "ipython3",
   "version": "3.8.5"
  }
 },
 "nbformat": 4,
 "nbformat_minor": 4
}
